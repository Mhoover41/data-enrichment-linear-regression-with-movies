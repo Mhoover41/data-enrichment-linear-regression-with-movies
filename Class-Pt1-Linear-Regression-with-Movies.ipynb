{
 "cells": [
  {
   "cell_type": "markdown",
   "id": "ec7b8cd1",
   "metadata": {},
   "source": [
    "# Linear Regression with Statsmodels for Movie Revenue"
   ]
  },
  {
   "cell_type": "markdown",
   "id": "be646c03",
   "metadata": {},
   "source": [
    "- 07/12/22\n",
    "-Purvi"
   ]
  },
  {
   "cell_type": "markdown",
   "id": "2550a29d",
   "metadata": {},
   "source": [
    "## Activity: Create a Linear Regression Model with Statsmodels for Revenue"
   ]
  },
  {
   "cell_type": "markdown",
   "id": "c906f994",
   "metadata": {},
   "source": [
    "- Today we will be working with JUST the data data from the TMDB API for years 2000-2021. \n",
    "    - We will prepare the data for modeling\n",
    "        - Some feature engineering\n",
    "        - Our usual Preprocessing\n",
    "        - New steps for statsmodels!\n",
    "    - We will fit a statsmodels linear regression.\n",
    "    - We Will inspect the model summary.\n",
    "    - We will create the visualizations to check assumptions about the residuals.\n",
    "\n",
    "\n",
    "\n",
    "- Next class we will continue this activity.\n",
    "    - We will better check all 4 assumptions.\n",
    "    - We will discuss tactics for dealing with violations of the assumptions. \n",
    "    - We will use our coefficients to make stakeholder recommendations."
   ]
  },
  {
   "cell_type": "markdown",
   "id": "053aec11",
   "metadata": {},
   "source": [
    "### Concepts Demonstrated"
   ]
  },
  {
   "cell_type": "markdown",
   "id": "2acd3fb6",
   "metadata": {},
   "source": [
    "- [ ] Using `glob` for loading in all final files. \n",
    "- [ ] Statsmodels OLS\n",
    "- [ ] QQ-Plot\n",
    "- [ ] Residual Plot"
   ]
  },
  {
   "cell_type": "markdown",
   "id": "89fd0241",
   "metadata": {},
   "source": [
    "# Loading the Data"
   ]
  },
  {
   "cell_type": "code",
   "execution_count": null,
   "id": "65e05555",
   "metadata": {},
   "outputs": [],
   "source": [
    "import json\n",
    "import pandas as pd\n",
    "import numpy as np\n",
    "import seaborn as sns\n",
    "from scipy import stats\n",
    "\n",
    "import matplotlib.pyplot as plt\n",
    "\n",
    "from sklearn.model_selection import train_test_split\n",
    "from sklearn.preprocessing import OneHotEncoder, StandardScaler\n",
    "from sklearn.impute import SimpleImputer\n",
    "from sklearn.compose import make_column_transformer, make_column_selector, ColumnTransformer\n",
    "from sklearn.pipeline import make_pipeline, Pipeline\n",
    "from sklearn.metrics import r2_score,mean_absolute_error,mean_squared_error\n",
    "## fixing random for lesson generation\n",
    "np.random.seed(321)"
   ]
  },
  {
   "cell_type": "code",
   "execution_count": null,
   "id": "0b603a58",
   "metadata": {},
   "outputs": [],
   "source": [
    "pd.set_option('display.max_columns',100)"
   ]
  },
  {
   "cell_type": "markdown",
   "id": "d4ad0a31",
   "metadata": {},
   "source": [
    "### 📚 Finding & Loading Batches of Files with `glob`"
   ]
  },
  {
   "cell_type": "code",
   "execution_count": null,
   "id": "dff0331a",
   "metadata": {},
   "outputs": [],
   "source": [
    "## Checking what data we already in our Data folder using os.listdir\n",
    "import os\n",
    "FOLDER = 'Data/'\n",
    "file_list = sorted(os.listdir(FOLDER))\n",
    "file_list"
   ]
  },
  {
   "cell_type": "code",
   "execution_count": null,
   "id": "17b13c76",
   "metadata": {},
   "outputs": [],
   "source": [
    "## Try loading in the first .csv.gz file from the list\n"
   ]
  },
  {
   "cell_type": "markdown",
   "id": "d69e4c80",
   "metadata": {},
   "source": [
    "> Why isn't it working?"
   ]
  },
  {
   "cell_type": "markdown",
   "id": "ebce0f60",
   "metadata": {},
   "source": [
    "- Now we would do that in a loop, and only want to open .csv.gz.\n",
    "- But there is a better way!\n",
    ">- Introducing `glob`\n",
    "    - Glob takes a filepath/query and will find every filename that matches the pattern provided.\n",
    "    - We use asterisks as wildcards in our query.\n",
    "    \n"
   ]
  },
  {
   "cell_type": "code",
   "execution_count": null,
   "id": "d5240524",
   "metadata": {},
   "outputs": [],
   "source": [
    "import glob\n",
    "## Make a filepath query\n",
    "q = FOLDER+\"final*.csv.gz\"\n",
    "q"
   ]
  },
  {
   "cell_type": "code",
   "execution_count": null,
   "id": "1cec2290",
   "metadata": {},
   "outputs": [],
   "source": [
    "# Use glob.glob to get COMPLETE filepaths\n",
    "file_list = glob.glob(q)\n",
    "file_list"
   ]
  },
  {
   "cell_type": "markdown",
   "id": "93af6a0c",
   "metadata": {},
   "source": [
    "> But where are the rest of the years?"
   ]
  },
  {
   "cell_type": "code",
   "execution_count": null,
   "id": "a8396d70",
   "metadata": {},
   "outputs": [],
   "source": [
    "## read one of the files in file_list\n",
    "pd.read_csv(file_list[0], lineterminator='\\n')\n"
   ]
  },
  {
   "cell_type": "markdown",
   "id": "e7c3f096",
   "metadata": {},
   "source": [
    "- Recursive Searching with glob.\n",
    "    - add a `**/` in the middle of your query to grab any matches from all subfolders. "
   ]
  },
  {
   "cell_type": "code",
   "execution_count": null,
   "id": "60c6c8a8",
   "metadata": {},
   "outputs": [],
   "source": [
    "# Use glob.glob to get COMPLETE filepaths\n",
    "q = FOLDER+\"**/final*.csv.gz\"\n",
    "file_list = glob.glob(q, recursive=True)\n",
    "file_list"
   ]
  },
  {
   "cell_type": "code",
   "execution_count": null,
   "id": "ebaf0d20",
   "metadata": {},
   "outputs": [],
   "source": [
    "# example using for loop to load all files into 1 dataframe\n",
    "df_list = []\n",
    "for file in file_list:\n",
    "    temp_df = pd.read_csv(file, lineterminator='\\n')\n",
    "    df_list.append(temp_df)\n",
    "len(df_list)"
   ]
  },
  {
   "cell_type": "code",
   "execution_count": null,
   "id": "f49dbeb6",
   "metadata": {},
   "outputs": [],
   "source": [
    "# concat all the files\n",
    "pd.concat(df_list)"
   ]
  },
  {
   "cell_type": "code",
   "execution_count": null,
   "id": "33076ffe",
   "metadata": {},
   "outputs": [],
   "source": [
    "# ## use a list comprehension to load in all files into 1 dataframe\n",
    "df = pd.concat([ pd.read_csv(file, lineterminator='\\n') for file in file_list])\n",
    "df"
   ]
  },
  {
   "cell_type": "markdown",
   "id": "85cbcbd5",
   "metadata": {},
   "source": [
    "- Dealing with ParserErrors with \"possibly malformed files\"\n",
    "\n",
    "    - for a reason I do not fully understand yet, some of the files I downloaded error if I try to read them.\n",
    "        - \"ParserError: Error tokenizing data. C error: Buffer overflow caught - possible malformed input file.`\n",
    "    - After some googling, the fix was to add `lineterminator='\\n'` to pd.read_csv\n"
   ]
  },
  {
   "cell_type": "code",
   "execution_count": null,
   "id": "7d951889",
   "metadata": {},
   "outputs": [],
   "source": [
    "# remove ids that are 0  and then reset index\n",
    "df = df.loc[ df['imdb_id']!='0']\n",
    "df"
   ]
  },
  {
   "cell_type": "code",
   "execution_count": null,
   "id": "c9b303ce",
   "metadata": {},
   "outputs": [],
   "source": [
    "df.reset_index(inplace=True)\n"
   ]
  },
  {
   "cell_type": "code",
   "execution_count": null,
   "id": "faffae56",
   "metadata": {},
   "outputs": [],
   "source": [
    "## saving the combined csv to disk\n",
    "df.to_csv('Data/combined_all_data.csv.gz', compression=\"gzip\", index = False)"
   ]
  },
  {
   "cell_type": "markdown",
   "id": "7635b936",
   "metadata": {},
   "source": [
    "# Preprocessing"
   ]
  },
  {
   "cell_type": "code",
   "execution_count": null,
   "id": "da2f629f",
   "metadata": {},
   "outputs": [],
   "source": [
    "df.info()"
   ]
  },
  {
   "cell_type": "code",
   "execution_count": null,
   "id": "139af284",
   "metadata": {},
   "outputs": [],
   "source": [
    "## Columns to exclude\n",
    "drop_cols = ['backdrop_path','backdrop_path','original_title','overview',\n",
    "                 'poster_path','status','tagline','id','homepage',\n",
    "                 'production_countries','video','production_companies','spoken_languages',\n",
    "            'original_language']\n",
    "\n",
    "## drop columns\n",
    "df = df.drop(columns=drop_cols)\n",
    "df"
   ]
  },
  {
   "cell_type": "markdown",
   "id": "bd187327",
   "metadata": {},
   "source": [
    "## Feature Engineering\n"
   ]
  },
  {
   "cell_type": "markdown",
   "id": "5a013019",
   "metadata": {},
   "source": [
    "- belongs to collection: convert to boolean\n",
    "- Genres: get just name and manually OHE\n",
    "- Cleaning Categories in Certification\n",
    "- Converting release date to year, month, and day."
   ]
  },
  {
   "cell_type": "markdown",
   "id": "bcdcc8bc",
   "metadata": {},
   "source": [
    "### belongs to collection\n",
    "- convert to boolean"
   ]
  },
  {
   "cell_type": "code",
   "execution_count": null,
   "id": "f07d8c02",
   "metadata": {},
   "outputs": [],
   "source": [
    "df['belongs_to_collection'].value_counts()"
   ]
  },
  {
   "cell_type": "code",
   "execution_count": null,
   "id": "266c94ef",
   "metadata": {},
   "outputs": [],
   "source": [
    "# there are 3,700+ movies that belong to collections\n",
    "df['belongs_to_collection'] = df['belongs_to_collection'].isna()\n",
    "df['belongs_to_collection'].value_counts(dropna=False)"
   ]
  },
  {
   "cell_type": "code",
   "execution_count": null,
   "id": "426f3290",
   "metadata": {},
   "outputs": [],
   "source": [
    "## Use .notna() to get True if it belongs to a collection\n"
   ]
  },
  {
   "cell_type": "markdown",
   "id": "98bbc083",
   "metadata": {},
   "source": [
    "### genre\n",
    "- get just name and manually OHE"
   ]
  },
  {
   "cell_type": "code",
   "execution_count": null,
   "id": "d7311fdd",
   "metadata": {},
   "outputs": [],
   "source": [
    "df.loc[5,'genres']"
   ]
  },
  {
   "cell_type": "code",
   "execution_count": null,
   "id": "a80aa21d",
   "metadata": {},
   "outputs": [],
   "source": [
    "## Function to get just the genre names as a list \n",
    "import json\n",
    "def get_genre_name(x):\n",
    "    x = x.replace(\"'\",'\"')\n",
    "    x = json.loads(x)\n",
    "    \n",
    "    genres = []\n",
    "    for genre in x:\n",
    "        genres.append(genre['name'])\n",
    "    return genres"
   ]
  },
  {
   "cell_type": "code",
   "execution_count": null,
   "id": "d041b3f6",
   "metadata": {},
   "outputs": [],
   "source": [
    "## Use our function and exploding the new column\n",
    "df['genre_list'] = df['genres'].apply(get_genre_name)\n",
    "df.head()"
   ]
  },
  {
   "cell_type": "code",
   "execution_count": null,
   "id": "a5da573e",
   "metadata": {},
   "outputs": [],
   "source": [
    "df_explode = df.explode('genre_list')\n",
    "df_explode"
   ]
  },
  {
   "cell_type": "code",
   "execution_count": null,
   "id": "5f0f8415",
   "metadata": {},
   "outputs": [],
   "source": [
    "## save unique genres\n",
    "unique_genres = df_explode['genre_list'].dropna().unique()\n",
    "unique_genres"
   ]
  },
  {
   "cell_type": "code",
   "execution_count": null,
   "id": "9a800f51",
   "metadata": {},
   "outputs": [],
   "source": [
    "## Manually One-Hot-Encode Genres\n",
    "for genre in unique_genres:\n",
    "    df[f\"Genre_{genre}\"] = df['genres'].str.contains(genre,regex=False)    \n",
    "df"
   ]
  },
  {
   "cell_type": "code",
   "execution_count": null,
   "id": "49c309ee",
   "metadata": {},
   "outputs": [],
   "source": [
    "## Drop original genre cols\n",
    "df = df.drop(columns=['genres','genre_list','index'])\n",
    "df"
   ]
  },
  {
   "cell_type": "markdown",
   "id": "5a82657d",
   "metadata": {},
   "source": [
    "### certification\n",
    "- Cleaning Categories in Certification"
   ]
  },
  {
   "cell_type": "code",
   "execution_count": null,
   "id": "5a425c38",
   "metadata": {},
   "outputs": [],
   "source": [
    "## Checking Certification values\n",
    "df['certification'].value_counts(dropna=False)"
   ]
  },
  {
   "cell_type": "code",
   "execution_count": null,
   "id": "244ebf01",
   "metadata": {},
   "outputs": [],
   "source": [
    "# fix extra space certs\n",
    "df['certification'] = df['certification'].str.strip()\n",
    "df['certification'].value_counts(dropna=False)"
   ]
  },
  {
   "cell_type": "code",
   "execution_count": null,
   "id": "4e3e4c27",
   "metadata": {},
   "outputs": [],
   "source": [
    "## fix certification col\n",
    "repl_cert = {'UR':'NR',\n",
    "             'Not Rated':'NR',\n",
    "             'Unrated':'NR',\n",
    "             '-':'NR',\n",
    "             '10':np.nan,\n",
    "             'ScreamFest Horror Film Festival':'NR'}\n",
    "df['certification'] = df['certification'].replace(repl_cert)#\n",
    "\n",
    "df['certification'].value_counts()"
   ]
  },
  {
   "cell_type": "markdown",
   "id": "f1ba94be",
   "metadata": {},
   "source": [
    "### Converting release date to sep features\n",
    "- Converting release date to year, month, and day."
   ]
  },
  {
   "cell_type": "code",
   "execution_count": null,
   "id": "aefffc87",
   "metadata": {},
   "outputs": [],
   "source": [
    "## split release date into 3 columns\n",
    "new_cols = ['year','month','day']\n",
    "df[new_cols] = df['release_date'].str.split('-',expand=True)\n",
    "df[new_cols] = df[new_cols].astype(float)\n",
    "df.head()"
   ]
  },
  {
   "cell_type": "code",
   "execution_count": null,
   "id": "8190890c",
   "metadata": {},
   "outputs": [],
   "source": [
    "## drop original feature\n",
    "df = df.drop(columns=['release_date'])"
   ]
  },
  {
   "cell_type": "markdown",
   "id": "1d9ac1fe",
   "metadata": {},
   "source": [
    "## Train Test Split"
   ]
  },
  {
   "cell_type": "code",
   "execution_count": null,
   "id": "3bead459",
   "metadata": {},
   "outputs": [],
   "source": [
    "df.info()"
   ]
  },
  {
   "cell_type": "code",
   "execution_count": null,
   "id": "8d644de0",
   "metadata": {},
   "outputs": [],
   "source": [
    "## Make x and y variables\n",
    "drop_for_model = ['title','imdb_id']\n",
    "\n",
    "y = df['revenue'].copy()\n",
    "X = df.drop(columns=['revenue',*drop_for_model]).copy()\n",
    "\n",
    "X_train, X_test, y_train, y_test = train_test_split(X,y)#, random_state=321)\n",
    "X_train.head()"
   ]
  },
  {
   "cell_type": "code",
   "execution_count": null,
   "id": "3b38430d",
   "metadata": {},
   "outputs": [],
   "source": [
    "X_train.isna().sum()"
   ]
  },
  {
   "cell_type": "code",
   "execution_count": null,
   "id": "c6b434dc",
   "metadata": {},
   "outputs": [],
   "source": [
    "## make cat selector and using it to save list of column names\n",
    "cat_select = make_column_selector(dtype_include='object')\n",
    "cat_cols = cat_select(X_train)\n",
    "cat_cols"
   ]
  },
  {
   "cell_type": "code",
   "execution_count": null,
   "id": "1b55680c",
   "metadata": {},
   "outputs": [],
   "source": [
    "## select manually OHE cols for later\n",
    "bool_select = make_column_selector(dtype_include='bool')\n",
    "already_ohe_cols = bool_select(X_train)\n",
    "already_ohe_cols"
   ]
  },
  {
   "cell_type": "code",
   "execution_count": null,
   "id": "44e9975e",
   "metadata": {},
   "outputs": [],
   "source": [
    "## convert manual ohe to int\n",
    "X_train[already_ohe_cols] = X_train[already_ohe_cols].astype(int)\n",
    "X_test[already_ohe_cols] = X_test[already_ohe_cols].astype(int)"
   ]
  },
  {
   "cell_type": "code",
   "execution_count": null,
   "id": "09062777",
   "metadata": {},
   "outputs": [],
   "source": [
    "## make num selector and using it to save list of column names\n",
    "num_select = make_column_selector(dtype_include='number')\n",
    "num_cols = num_select(X_train)\n",
    "num_cols"
   ]
  },
  {
   "cell_type": "code",
   "execution_count": null,
   "id": "083ffcb4",
   "metadata": {},
   "outputs": [],
   "source": [
    "## make pipelines\n",
    "cat_pipe = make_pipeline(SimpleImputer(strategy='constant',\n",
    "                                       fill_value='MISSING'),\n",
    "                         OneHotEncoder(handle_unknown='ignore', sparse=False))\n",
    "num_pipe = make_pipeline(SimpleImputer(strategy='mean'),#StandardScaler()\n",
    "                        )\n",
    "\n",
    "preprocessor = make_column_transformer((cat_pipe,cat_cols),\n",
    "                                        (num_pipe, num_cols),\n",
    "                                       ('passthrough',already_ohe_cols))# remainder='passthrough')\n",
    "preprocessor"
   ]
  },
  {
   "cell_type": "code",
   "execution_count": null,
   "id": "492d218e",
   "metadata": {},
   "outputs": [],
   "source": [
    "## fit the col transformer\n",
    "preprocessor.fit(X_train)\n",
    "\n",
    "## Finding the categorical pipeline in our col transformer.\n",
    "preprocessor.named_transformers_['pipeline-1']"
   ]
  },
  {
   "cell_type": "code",
   "execution_count": null,
   "id": "3323c10f",
   "metadata": {},
   "outputs": [],
   "source": [
    "## B) Using list-slicing to find the encoder \n",
    "cat_features = preprocessor.named_transformers_['pipeline-1'][-1].get_feature_names_out(cat_cols)\n",
    "\n",
    "## Create the empty list\n",
    "final_features = [*cat_features,*num_cols,*already_ohe_cols]\n",
    "len(final_features)"
   ]
  },
  {
   "cell_type": "code",
   "execution_count": null,
   "id": "62437d0c",
   "metadata": {},
   "outputs": [],
   "source": [
    "## checking shape matches len final features\n",
    "preprocessor.transform(X_train).shape"
   ]
  },
  {
   "cell_type": "code",
   "execution_count": null,
   "id": "2c1742cc",
   "metadata": {},
   "outputs": [],
   "source": [
    "## make X_train_tf \n",
    "X_train_tf = pd.DataFrame( preprocessor.transform(X_train), \n",
    "                          columns=final_features, index=X_train.index)\n",
    "X_train_tf.head()"
   ]
  },
  {
   "cell_type": "code",
   "execution_count": null,
   "id": "e208b3ae",
   "metadata": {},
   "outputs": [],
   "source": [
    "## make X_test_tf \n",
    "\n",
    "X_test_tf = pd.DataFrame( preprocessor.transform(X_test), \n",
    "                         columns=final_features, index=X_test.index)\n",
    "X_test_tf.head()"
   ]
  },
  {
   "cell_type": "markdown",
   "id": "acb8203f",
   "metadata": {},
   "source": [
    "### Adding a Constant for Statsmodels"
   ]
  },
  {
   "cell_type": "code",
   "execution_count": null,
   "id": "20ebc9f8",
   "metadata": {},
   "outputs": [],
   "source": [
    "\n",
    "##import statsmodels correctly\n",
    "import statsmodels.api as sm"
   ]
  },
  {
   "cell_type": "markdown",
   "id": "729495f6",
   "metadata": {},
   "source": [
    "> Tip: make sure that add_constant actually added a new column! You may need to change the parameter `has_constant` to \"add\""
   ]
  },
  {
   "cell_type": "code",
   "execution_count": null,
   "id": "3e637869",
   "metadata": {},
   "outputs": [],
   "source": [
    "## Make final X_train_df and X_test_df with constants added\n",
    "## Make final X_train_df and X_test_df with constants added\n",
    "X_train_df = sm.add_constant(X_train_tf, prepend=False, has_constant='add')\n",
    "X_test_df = sm.add_constant(X_test_tf, prepend=False, has_constant='add') \n",
    "X_test_df"
   ]
  },
  {
   "cell_type": "code",
   "execution_count": null,
   "id": "07ba96dc",
   "metadata": {},
   "outputs": [],
   "source": [
    "display(X_train_df.head(2),X_test_df.head(2))"
   ]
  },
  {
   "cell_type": "markdown",
   "id": "dbb74605",
   "metadata": {},
   "source": [
    "# 🕹 Part 2: Checking Model Assumptions"
   ]
  },
  {
   "cell_type": "markdown",
   "id": "342d1f5f",
   "metadata": {},
   "source": [
    "## Modeling"
   ]
  },
  {
   "cell_type": "markdown",
   "id": "fc1c27c0",
   "metadata": {},
   "source": [
    "## Statsmodels OLS"
   ]
  },
  {
   "cell_type": "code",
   "execution_count": null,
   "id": "48d0736a",
   "metadata": {
    "scrolled": false
   },
   "outputs": [],
   "source": [
    "## instantiate an OLS model WITH the training data.\n",
    "model = sm.OLS(y_train, X_train_df)\n",
    "\n",
    "## Fit the model and view the summary\n",
    "result = model.fit()\n",
    "\n",
    "result.summary()"
   ]
  },
  {
   "cell_type": "code",
   "execution_count": null,
   "id": "676327d7",
   "metadata": {},
   "outputs": [],
   "source": [
    "## Get train data performance from skearn to confirm matches OLS\n",
    "y_hat_train = result.predict(X_train_df)\n",
    "\n",
    "print(f'Training R^2: {r2_score(y_train, y_hat_train):.3f}')\n",
    "\n",
    "## Get test data performance\n",
    "y_hat_test = result.predict(X_test_df)\n",
    "\n",
    "print(f'Test R^2: {r2_score(y_test, y_hat_test):.3f}')"
   ]
  },
  {
   "cell_type": "markdown",
   "id": "f1b994cb",
   "metadata": {},
   "source": [
    "# The Assumptions of Linear Regression"
   ]
  },
  {
   "cell_type": "markdown",
   "id": "a37fba73",
   "metadata": {},
   "source": [
    "- The 4 Assumptions of a Linear Regression are:\n",
    "    - Linearity: That the input features have a linear relationship with the target.\n",
    "    - Independence of features (AKA Little-to-No Multicollinearity): That the features are not strongly related to other features.\n",
    "    - **Normality: The model's residuals are approximately normally distributed.**\n",
    "    - **Homoscedasticity: The model residuals have equal variance across all predictions.**\n"
   ]
  },
  {
   "cell_type": "markdown",
   "id": "9ebcb7bf",
   "metadata": {},
   "source": [
    "### QQ(Quantile-Quantile)-Plot for Checking for Normality"
   ]
  },
  {
   "cell_type": "code",
   "execution_count": null,
   "id": "058f7154",
   "metadata": {},
   "outputs": [],
   "source": [
    "## Create a Q-QPlot\n",
    "resids = y_train - y_hat_train\n",
    "sns.histplot(resids)"
   ]
  },
  {
   "cell_type": "code",
   "execution_count": null,
   "id": "b6505c40",
   "metadata": {},
   "outputs": [],
   "source": [
    "# first calculate residuals \n",
    "sm.graphics.qqplot(resids, fit=True, line='45');\n",
    "## then use sm's qqplot with line='45' fit=True"
   ]
  },
  {
   "cell_type": "code",
   "execution_count": null,
   "id": "1f4ff117",
   "metadata": {},
   "outputs": [],
   "source": []
  },
  {
   "cell_type": "markdown",
   "id": "687e656b",
   "metadata": {},
   "source": [
    "### Residual Plot for Checking Homoscedasticity"
   ]
  },
  {
   "cell_type": "code",
   "execution_count": null,
   "id": "58277dcd",
   "metadata": {},
   "outputs": [],
   "source": [
    "## Plot scatterplot with y_hat_test vs resids\n",
    "plt.scatter(y_hat_train, resids, ec='white')\n",
    "plt.axhline(0,color='k');"
   ]
  },
  {
   "cell_type": "markdown",
   "id": "53b1aaf5",
   "metadata": {},
   "source": [
    "### Putting it all together"
   ]
  },
  {
   "cell_type": "code",
   "execution_count": null,
   "id": "350262af",
   "metadata": {},
   "outputs": [],
   "source": [
    "def evaluate_ols(result,X_train_df, y_train):\n",
    "    \"\"\"Plots a Q-Q Plot and residual plot for a statsmodels OLS regression.\n",
    "    \"\"\"\n",
    "    \n",
    "    ## save residuals from result\n",
    "    y_pred = result.predict(X_train_df)\n",
    "    resid = y_train - y_pred\n",
    "    \n",
    "    fig, axes = plt.subplots(ncols=2,figsize=(12,5))\n",
    "    \n",
    "    ## Normality \n",
    "    sm.graphics.qqplot(resid,line='45',fit=True,ax=axes[0]);\n",
    "    \n",
    "    ## Homoscedasticity\n",
    "    ax = axes[1]\n",
    "    ax.scatter(y_pred, resid, edgecolor='white',lw=1)\n",
    "    ax.axhline(0,zorder=0)\n",
    "    ax.set(ylabel='Residuals',xlabel='Predicted Value');\n",
    "    plt.tight_layout()\n",
    "    \n",
    "evaluate_ols(result,X_train_df, y_train)\n",
    "\n"
   ]
  },
  {
   "cell_type": "markdown",
   "id": "416c32a9",
   "metadata": {},
   "source": [
    "> iterating on our model & interpreting coefficients"
   ]
  },
  {
   "cell_type": "markdown",
   "id": "781a699e",
   "metadata": {},
   "source": [
    "# Improving Our Model:"
   ]
  },
  {
   "cell_type": "markdown",
   "id": "3f89f4b4",
   "metadata": {},
   "source": [
    "\"Garbage In = Garbage Out\"\n",
    "\n",
    "Before we dive into iterating on our model, I realized there were some big issues that I did not account for in the original data.\n",
    "some movies may not have been released.\n",
    "We should probably remove movies with 0 budget and revenue."
   ]
  },
  {
   "cell_type": "code",
   "execution_count": null,
   "id": "39a98baa",
   "metadata": {},
   "outputs": [],
   "source": [
    "## reload the data\n",
    "df = pd.read_csv(FOLDER+'combined_tmdb_data.csv.gz',lineterminator='\\n')\n",
    "df.head(2)"
   ]
  },
  {
   "cell_type": "markdown",
   "id": "9b9c05be",
   "metadata": {},
   "source": [
    "## Repeating Feature Engineering"
   ]
  },
  {
   "cell_type": "code",
   "execution_count": null,
   "id": "fcde1f05",
   "metadata": {},
   "outputs": [],
   "source": [
    "## Columns to exclude - Keeping Status and companies\n",
    "drop_cols = ['backdrop_path','backdrop_path','original_title','overview',\n",
    "                 'poster_path','tagline','id','homepage', #'status','production_companies'\n",
    "                 'production_countries','video','spoken_languages',\n",
    "            'original_language']\n",
    "df = df.drop(columns=drop_cols)\n",
    "\n",
    "## Use .notna() to get True if it belongs to a collection\n",
    "df['belongs_to_collection'] = df['belongs_to_collection'].notna()\n",
    "\n",
    "## Function to get just the genre names as a list \n",
    "import json\n",
    "def get_genre_name(x):\n",
    "    x = x.replace(\"'\",'\"')\n",
    "    x = json.loads(x)\n",
    "    \n",
    "    genres = []\n",
    "    for genre in x:\n",
    "        genres.append(genre['name'])\n",
    "    return genres\n",
    "\n",
    "## Use ourn function and exploding the new column\n",
    "df['genres_list'] = df['genres'].apply(get_genre_name)\n",
    "df_explode = df.explode('genres_list')\n",
    "\n",
    "## save unique genres\n",
    "unique_genres = df_explode['genres_list'].dropna().unique()\n",
    "\n",
    "## Manually One-Hot-Encode Genres\n",
    "for genre in unique_genres:\n",
    "    df[f\"Genre_{genre}\"] = df['genres'].str.contains(genre,regex=False)    \n",
    "\n",
    "\n",
    "## Drop original genre cols\n",
    "df = df.drop(columns=['genres','genres_list'])\n",
    "\n",
    "\n",
    "#### Fixing Certification\n",
    "## Checking Certification values\n",
    "df['certification'].value_counts(dropna=False)\n",
    "# fix extra space certs\n",
    "df['certification'] = df['certification'].str.strip()\n",
    "\n",
    "## fix certification col\n",
    "repl_cert = {'UR':'NR',\n",
    "             'Not Rated':'NR',\n",
    "             'Unrated':'NR',\n",
    "             '-':'NR',\n",
    "             '10':np.nan,\n",
    "             'ScreamFest Horror Film Festival':'NR'}\n",
    "df['certification'] = df['certification'].replace(repl_cert)\n",
    "df['certification'].value_counts(dropna=False)\n",
    "\n",
    "\n",
    "#### Converting year to sep features\n",
    "## split release date into 3 columns\n",
    "new_cols = ['year','month','day']\n",
    "df[new_cols] = df['release_date'].str.split('-',expand=True)\n",
    "df[new_cols] = df[new_cols].astype(float)\n",
    "\n",
    "## drop original feature\n",
    "df = df.drop(columns=['release_date'])\n",
    "df\n"
   ]
  },
  {
   "cell_type": "markdown",
   "id": "5c3a3921",
   "metadata": {},
   "source": [
    "New Filtering\n",
    "- Make sure to only keep:\n",
    "    - Status=Released.\n",
    "    - Budget >0\n",
    "    - Revenue >0"
   ]
  },
  {
   "cell_type": "code",
   "execution_count": null,
   "id": "18899372",
   "metadata": {},
   "outputs": [],
   "source": [
    "## Check status\n",
    "df['status'].value_counts()"
   ]
  },
  {
   "cell_type": "code",
   "execution_count": null,
   "id": "acf19aaa",
   "metadata": {},
   "outputs": [],
   "source": [
    "## Save only Released status\n",
    "df = df.loc[ df['status'] == 'Released']\n",
    "df = df.drop(columns=['status'])\n",
    "df"
   ]
  },
  {
   "cell_type": "code",
   "execution_count": null,
   "id": "b312fc5b",
   "metadata": {},
   "outputs": [],
   "source": [
    "## filter out financials that don't have financial data\n",
    "df = df.loc[(df['budget'] >0 ) & (df['revenue']>0)]\n",
    "df"
   ]
  },
  {
   "cell_type": "markdown",
   "id": "c6423557",
   "metadata": {},
   "source": [
    "### Production Company"
   ]
  },
  {
   "cell_type": "code",
   "execution_count": null,
   "id": "9eb711a6",
   "metadata": {},
   "outputs": [],
   "source": [
    "## getting longest string to check for multiple companies\n",
    "idxmax = df['production_companies'].apply(len).idxmax()\n",
    "idxmax "
   ]
  },
  {
   "cell_type": "code",
   "execution_count": null,
   "id": "8bacf1fc",
   "metadata": {},
   "outputs": [],
   "source": [
    "test = df.loc[idxmax, 'production_companies']\n",
    "test"
   ]
  },
  {
   "cell_type": "code",
   "execution_count": null,
   "id": "f9e02c2f",
   "metadata": {},
   "outputs": [],
   "source": [
    "# using regular expressions to extrap just the name\n",
    "import re\n",
    "exp= r\"\\'name\\'\\:.?\\'(\\w*.*?)\\'\"\n",
    "re.findall(exp, test)\n",
    "# df['production_companies'].str.extractall(exp,expand=False)"
   ]
  },
  {
   "cell_type": "code",
   "execution_count": null,
   "id": "c3131044",
   "metadata": {},
   "outputs": [],
   "source": [
    "def get_prod_company_names(x):\n",
    "    if x=='[]':\n",
    "        return [\"MISSING\"]\n",
    "    \n",
    "    exp= r\"\\'name\\'\\:.?\\'(\\w*.*?)\\'\"\n",
    "    companies = re.findall(exp, x)\n",
    "    return companies\n",
    "#     return ','.join(companies)"
   ]
  },
  {
   "cell_type": "code",
   "execution_count": null,
   "id": "7e6c2c98",
   "metadata": {},
   "outputs": [],
   "source": [
    "# df[df['prod_company'] =='']\n",
    "get_prod_company_names(test)"
   ]
  },
  {
   "cell_type": "code",
   "execution_count": null,
   "id": "07f8c4bb",
   "metadata": {},
   "outputs": [],
   "source": [
    "## Save new clean prod_comapny col and explode\n",
    "df['prod_company'] = df['production_companies'].apply(get_prod_company_names)\n",
    "prod_companies = df['prod_company'].explode()#.nunique()"
   ]
  },
  {
   "cell_type": "code",
   "execution_count": null,
   "id": "2c6aa01c",
   "metadata": {},
   "outputs": [],
   "source": [
    "\n",
    "prod_companies.value_counts().head(49)"
   ]
  },
  {
   "cell_type": "markdown",
   "id": "355cdd3e",
   "metadata": {},
   "source": [
    "Common Prod Company Encoding:\n",
    "- Keep top 50 most common companies an one hot encode"
   ]
  },
  {
   "cell_type": "code",
   "execution_count": null,
   "id": "52289a4e",
   "metadata": {},
   "outputs": [],
   "source": [
    "common_companies = sorted(prod_companies.value_counts().head(50).index)\n",
    "common_companies"
   ]
  },
  {
   "cell_type": "code",
   "execution_count": null,
   "id": "e86de4a7",
   "metadata": {},
   "outputs": [],
   "source": [
    "len(common_companies)\n"
   ]
  },
  {
   "cell_type": "code",
   "execution_count": null,
   "id": "8fc3c337",
   "metadata": {},
   "outputs": [],
   "source": [
    "\n",
    "## manually ohe top 20 companies\n",
    "for company in common_companies:\n",
    "    df[f\"ProdComp_{company}\"] = df['production_companies'].str.contains(company, regex=False)"
   ]
  },
  {
   "cell_type": "code",
   "execution_count": null,
   "id": "bd93f119",
   "metadata": {},
   "outputs": [],
   "source": [
    "## Dropping columns\n",
    "drop_for_model = ['title','imdb_id','prod_company','production_companies']\n",
    "df = df.drop(columns=drop_for_model)\n",
    "df"
   ]
  },
  {
   "cell_type": "markdown",
   "id": "7d1b01d2",
   "metadata": {},
   "source": [
    "### Checking for Linearity\n"
   ]
  },
  {
   "cell_type": "code",
   "execution_count": null,
   "id": "063ba84e",
   "metadata": {},
   "outputs": [],
   "source": [
    "## save plot_cols list to show (dropping genre from plot_df from pair_plot)\n",
    "genre_cols = [c for c in df.columns if c.startswith('Genre')]\n",
    "plot_cols = plot_df.drop(columns=['revenue',*genre_cols]).columns\n",
    "len(plot_cols)"
   ]
  },
  {
   "cell_type": "code",
   "execution_count": null,
   "id": "11602fff",
   "metadata": {},
   "outputs": [],
   "source": [
    "# ## save plot_cols list to show (dropping genre from plot_df from pair_plot)\n",
    "sns.pairplot(data=plot_df, y_vars='revenue',x_vars=plot_cols[:6])"
   ]
  },
  {
   "cell_type": "code",
   "execution_count": null,
   "id": "646bf22a",
   "metadata": {},
   "outputs": [],
   "source": [
    "## plot remaining features\n",
    "#Shouldn't have years before 2000, so drop.\n",
    "#Check outliers in popularity, runtime\n"
   ]
  },
  {
   "cell_type": "code",
   "execution_count": null,
   "id": "41ee903d",
   "metadata": {},
   "outputs": [],
   "source": [
    "# remove movies prior to 2000\n",
    "df = df.loc[ df['year']>=2000]\n",
    "df"
   ]
  },
  {
   "cell_type": "markdown",
   "id": "241868d7",
   "metadata": {},
   "source": [
    "Now need to recreate X and y varaibles"
   ]
  },
  {
   "cell_type": "markdown",
   "id": "2eacdfb8",
   "metadata": {},
   "source": [
    "## Functionize ALL of the preprocessing"
   ]
  },
  {
   "cell_type": "code",
   "execution_count": null,
   "id": "3ac690fe",
   "metadata": {},
   "outputs": [],
   "source": [
    "def get_train_test_split(df_, y_col='revenue',drop_cols=[]):\n",
    "    \n",
    "    ## Make copy of input df\n",
    "    df = df_.copy()\n",
    "    \n",
    "    ## filter columns in drop cols (if exist)\n",
    "    final_drop_cols = []\n",
    "    [df.drop(columns=c,inplace=True) for c in df.columns if c in drop_cols]\n",
    "    \n",
    "    \n",
    "    ## Make x and y variables\n",
    "    y = df[y_col].copy()\n",
    "    X = df.drop(columns=[y_col]).copy()\n",
    "\n",
    "    X_train, X_test, y_train, y_test = train_test_split(X,y)#, random_state=321)\n",
    "    \n",
    "\n",
    "    \n",
    "    ## make cat selector and using it to save list of column names\n",
    "    cat_select = make_column_selector(dtype_include='object')\n",
    "    cat_cols = cat_select(X_train)\n",
    "\n",
    "\n",
    "    ## make num selector and using it to save list of column names\n",
    "    num_select = make_column_selector(dtype_include='number')\n",
    "    num_cols = num_select(X_train)\n",
    "\n",
    "\n",
    "    ## select manually OHE cols for later\n",
    "    bool_select = make_column_selector(dtype_include='bool')\n",
    "    already_ohe_cols = bool_select(X_train)\n",
    "\n",
    "    ## convert manual ohe to int\n",
    "    X_train[already_ohe_cols] = X_train[already_ohe_cols].astype(int)\n",
    "    X_test[already_ohe_cols] = X_test[already_ohe_cols].astype(int)\n",
    "\n",
    "    ## make pipelines\n",
    "    cat_pipe = make_pipeline(SimpleImputer(strategy='constant',\n",
    "                                           fill_value='MISSING'),\n",
    "                             OneHotEncoder(handle_unknown='ignore', sparse=False))\n",
    "    num_pipe = make_pipeline(SimpleImputer(strategy='mean'),#StandardScaler()\n",
    "                            )\n",
    "\n",
    "    preprocessor = make_column_transformer((num_pipe, num_cols),\n",
    "                                           (cat_pipe,cat_cols),remainder='passthrough')\n",
    "    \n",
    "    \n",
    "\n",
    "    ## fit the col transformer\n",
    "    preprocessor.fit(X_train)\n",
    "\n",
    "    ## Finding the categorical pipeline in our col transformer.\n",
    "    preprocessor.named_transformers_['pipeline-2']\n",
    "\n",
    "    ## B) Using list-slicing to find the encoder \n",
    "    cat_features = preprocessor.named_transformers_['pipeline-2'][-1].get_feature_names_out(cat_cols)\n",
    "\n",
    "\n",
    "    ## Create the empty list\n",
    "    final_features = [*cat_features,*num_cols,*already_ohe_cols]\n",
    "\n",
    "    ## Make df verisons of x data\n",
    "    X_train_tf = pd.DataFrame( preprocessor.transform(X_train), \n",
    "                              columns=final_features, index=X_train.index)\n",
    "\n",
    "\n",
    "    X_test_tf = pd.DataFrame( preprocessor.transform(X_test),\n",
    "                             columns=final_features, index=X_test.index)\n",
    "\n",
    "\n",
    "    ### Adding a Constant for Statsmodels\n",
    "    ## Make final X_train_df and X_test_df with constants added\n",
    "    X_train_df = sm.add_constant(X_train_tf, prepend=False, has_constant='add')\n",
    "    X_test_df = sm.add_constant(X_test_tf, prepend=False, has_constant='add')\n",
    "    return X_train_df, X_test_df, y_train, y_test"
   ]
  },
  {
   "cell_type": "code",
   "execution_count": null,
   "id": "e0d98f61",
   "metadata": {},
   "outputs": [],
   "source": [
    "## Use our function to make new x,y vars\n",
    "X_train_df, X_test_df, y_train, y_test =get_train_test_split(df)\n",
    "X_train_df"
   ]
  },
  {
   "cell_type": "code",
   "execution_count": null,
   "id": "a016e072",
   "metadata": {},
   "outputs": [],
   "source": [
    "## instantiate an OLS model WITH the training data.\n",
    "X_train_df, X_test_df, y_train, y_test =get_train_test_split(df)\n",
    "model = sm.OLS(y_train, X_train_df)\n",
    "\n",
    "## Fit the model and view the summary\n",
    "result = model.fit()\n",
    "\n",
    "evaluate_ols(result, X_train_df, y_train)\n",
    "result.summary()"
   ]
  },
  {
   "cell_type": "markdown",
   "id": "0505393c",
   "metadata": {},
   "source": [
    "## Removing Outliers\n"
   ]
  },
  {
   "cell_type": "markdown",
   "id": "fb2606c4",
   "metadata": {},
   "source": [
    "#### Using Z-Score Rule"
   ]
  },
  {
   "cell_type": "code",
   "execution_count": null,
   "id": "2476c9d1",
   "metadata": {},
   "outputs": [],
   "source": [
    "from scipy import stats\n",
    "def find_outliers(data, verbose=True):\n",
    "    outliers = np.abs(stats.zscore(data))>3\n",
    "    \n",
    "    if verbose:\n",
    "        print(f\"- {outliers.sum()} outliers found in {data.name} using Z-Scores.\")\n",
    "    return outliers"
   ]
  },
  {
   "cell_type": "code",
   "execution_count": null,
   "id": "46754403",
   "metadata": {},
   "outputs": [],
   "source": [
    "outlier_cols = df.select_dtypes('number').columns\n",
    "outlier_cols"
   ]
  },
  {
   "cell_type": "code",
   "execution_count": null,
   "id": "55008d62",
   "metadata": {},
   "outputs": [],
   "source": [
    "## save a dictionary of the T/F outlier index for each feature in outleir_cols\n",
    "outliers = {}\n",
    "\n",
    "for col in outlier_cols:\n",
    "    idx_outliers = find_outliers( df[col])\n",
    "    outliers[col] = idx_outliers\n",
    "outliers.keys()"
   ]
  },
  {
   "cell_type": "code",
   "execution_count": null,
   "id": "7da5048d",
   "metadata": {},
   "outputs": [],
   "source": [
    "outliers['revenue']\n"
   ]
  },
  {
   "cell_type": "code",
   "execution_count": null,
   "id": "f67904cb",
   "metadata": {},
   "outputs": [],
   "source": [
    "# Make new df_clean copy of df\n",
    "df_clean = df.copy()\n",
    "\n",
    "## loop through dictionary to remove outliers\n",
    "for col, idx_outliers in outliers.items():\n",
    "    df_clean = df_clean[~idx_outliers]\n",
    "df_clean.info()"
   ]
  },
  {
   "cell_type": "markdown",
   "id": "c4e1fc76",
   "metadata": {},
   "source": [
    "### Model 2: Outliers Removed (Z_scores)"
   ]
  },
  {
   "cell_type": "code",
   "execution_count": null,
   "id": "b76d6dab",
   "metadata": {},
   "outputs": [],
   "source": [
    "## instantiate an OLS model WITH the training data.\n",
    "X_train_df, X_test_df, y_train, y_test =get_train_test_split(df_clean)\n",
    "model = sm.OLS(y_train, X_train_df)\n",
    "\n",
    "## Fit the model and view the summary\n",
    "result = model.fit()\n",
    "\n",
    "evaluate_ols(result, X_train_df, y_train)"
   ]
  },
  {
   "cell_type": "markdown",
   "id": "328b6902",
   "metadata": {},
   "source": [
    "### Removing Outliers - Using IQR Rule"
   ]
  },
  {
   "cell_type": "code",
   "execution_count": null,
   "id": "d6b43e14",
   "metadata": {},
   "outputs": [],
   "source": [
    "## visualzie outlier-removed target\n",
    "sns.boxplot(x = y_train)\n"
   ]
  },
  {
   "cell_type": "code",
   "execution_count": null,
   "id": "4d776d4e",
   "metadata": {},
   "outputs": [],
   "source": [
    "def find_outliers_IQR(data, verbose=True):\n",
    "    q3 = np.quantile(data,.75)\n",
    "    q1 = np.quantile(data,.25)\n",
    "\n",
    "    IQR = q3 - q1\n",
    "    upper_threshold = q3 + 1.5*IQR\n",
    "    lower_threshold = q1 - 1.5*IQR\n",
    "    \n",
    "    outliers = (data<lower_threshold) | (data>upper_threshold)\n",
    "    if verbose:\n",
    "        print(f\"- {outliers.sum()} outliers found in {data.name} using IQR.\")\n",
    "        \n",
    "    return outliers"
   ]
  },
  {
   "cell_type": "markdown",
   "id": "44160917",
   "metadata": {},
   "source": [
    "\n",
    "use new func to find outliers in target"
   ]
  },
  {
   "cell_type": "code",
   "execution_count": null,
   "id": "a1262c02",
   "metadata": {},
   "outputs": [],
   "source": [
    "## Loop to remove outliers from same clumns using new function\n",
    "outlier_cols = num_cols#['runtime','popularity','revenue']\n",
    "\n",
    "## Empty dict for both types of outliers\n",
    "outliers_z = {}\n",
    "outliers_iqr = {}\n",
    "\n",
    "## Use both functions to see the comparison for # of outliers\n",
    "for col in outlier_cols:\n",
    "    outliers_col_z = find_outliers(df[col])\n",
    "    outliers_z[col] = outliers_col_z\n",
    "    \n",
    "    outliers_col_iqr = find_outliers_IQR(df[col])\n",
    "    outliers_iqr[col] = outliers_col_iqr\n",
    "    print()\n",
    "    "
   ]
  },
  {
   "cell_type": "code",
   "execution_count": null,
   "id": "a0ec9250",
   "metadata": {},
   "outputs": [],
   "source": [
    "# remove_outliers\n",
    "df_clean_iqr = df.copy()\n",
    "for col, idx_outliers in outliers_iqr.items():\n",
    "    df_clean_iqr = df_clean_iqr[~idx_outliers]\n",
    "df_clean_iqr"
   ]
  },
  {
   "cell_type": "markdown",
   "id": "5c02f699",
   "metadata": {},
   "source": [
    "### Model 3 - IQR Outliers Removed"
   ]
  },
  {
   "cell_type": "code",
   "execution_count": null,
   "id": "9732902d",
   "metadata": {},
   "outputs": [],
   "source": [
    "## MAKE NEW MODEL WITH IQR OUTLIERS REMOVED\n",
    "## instantiate an OLS model WITH the training data.\n",
    "X_train_df, X_test_df, y_train, y_test =get_train_test_split(df_clean_iqr)\n",
    "model = sm.OLS(y_train, X_train_df)\n",
    "\n",
    "## Fit the model and view the summary\n",
    "result = model.fit()\n",
    "\n",
    "evaluate_ols(result, X_train_df, y_train)"
   ]
  },
  {
   "cell_type": "code",
   "execution_count": null,
   "id": "01cc46c1",
   "metadata": {},
   "outputs": [],
   "source": [
    "\n",
    "## get pvalues from model result\n",
    "pvals = result.pvalues\n",
    "pvals"
   ]
  },
  {
   "cell_type": "code",
   "execution_count": null,
   "id": "acbe6514",
   "metadata": {},
   "outputs": [],
   "source": [
    "## Check for p-values that are >.05\n",
    "pvals[pvals >  .05]"
   ]
  },
  {
   "cell_type": "markdown",
   "id": "62d6cee0",
   "metadata": {},
   "source": [
    "### Removing features - based on p-values"
   ]
  },
  {
   "cell_type": "code",
   "execution_count": null,
   "id": "72f5332f",
   "metadata": {},
   "outputs": [],
   "source": []
  },
  {
   "cell_type": "markdown",
   "id": "d989fd50",
   "metadata": {},
   "source": [
    "### Addressing Multicollinearity\n"
   ]
  },
  {
   "cell_type": "code",
   "execution_count": null,
   "id": "a85ec8dd",
   "metadata": {},
   "outputs": [],
   "source": []
  },
  {
   "cell_type": "markdown",
   "id": "f3aa00dc",
   "metadata": {},
   "source": [
    "### Variance Inflation Factor"
   ]
  },
  {
   "cell_type": "code",
   "execution_count": null,
   "id": "861f3cef",
   "metadata": {},
   "outputs": [],
   "source": []
  },
  {
   "cell_type": "markdown",
   "id": "2a7f2859",
   "metadata": {},
   "source": [
    "### FInal Model"
   ]
  },
  {
   "cell_type": "code",
   "execution_count": null,
   "id": "89911ee4",
   "metadata": {},
   "outputs": [],
   "source": []
  },
  {
   "cell_type": "markdown",
   "id": "55c40d7d",
   "metadata": {},
   "source": [
    "### Summary"
   ]
  },
  {
   "cell_type": "code",
   "execution_count": null,
   "id": "f65b6a0d",
   "metadata": {},
   "outputs": [],
   "source": []
  }
 ],
 "metadata": {
  "kernelspec": {
   "display_name": "Python (dojo-env)",
   "language": "python",
   "name": "dojo-env"
  },
  "language_info": {
   "codemirror_mode": {
    "name": "ipython",
    "version": 3
   },
   "file_extension": ".py",
   "mimetype": "text/x-python",
   "name": "python",
   "nbconvert_exporter": "python",
   "pygments_lexer": "ipython3",
   "version": "3.8.13"
  },
  "toc": {
   "base_numbering": 1,
   "nav_menu": {},
   "number_sections": false,
   "sideBar": true,
   "skip_h1_title": false,
   "title_cell": "Table of Contents",
   "title_sidebar": "Contents",
   "toc_cell": false,
   "toc_position": {
    "height": "calc(100% - 180px)",
    "left": "10px",
    "top": "150px",
    "width": "165px"
   },
   "toc_section_display": true,
   "toc_window_display": true
  }
 },
 "nbformat": 4,
 "nbformat_minor": 5
}
